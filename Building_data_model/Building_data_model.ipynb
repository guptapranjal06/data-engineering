{
 "cells": [
  {
   "cell_type": "code",
   "execution_count": 2,
   "id": "56e83944",
   "metadata": {},
   "outputs": [],
   "source": [
    "import psycopg2\n",
    "import pandas as pd"
   ]
  },
  {
   "cell_type": "code",
   "execution_count": 3,
   "id": "536394d0",
   "metadata": {},
   "outputs": [],
   "source": [
    "def create_database():\n",
    "    # connect to a default database\n",
    "    conn = psycopg2.connect(\"host=localhost dbname=postgres user=postgres password=divya\")\n",
    "    conn.set_session(autocommit=True)\n",
    "    cur = conn.cursor()\n",
    "\n",
    "    # create database\n",
    "    cur.execute(\"DROP DATABASE IF EXISTS orders\")\n",
    "    cur.execute(\"CREATE DATABASE orders\")\n",
    "\n",
    "    # close connection to default database\n",
    "    conn.close()\n",
    "\n",
    "    #connect to new database\n",
    "    conn = psycopg2.connect(\"host=127.0.0.1 dbname=orders user=postgres password=divya\")\n",
    "    cur = conn.cursor()\n",
    "    \n",
    "    return cur, conn\n",
    "    "
   ]
  },
  {
   "cell_type": "code",
   "execution_count": 4,
   "id": "1ec34806",
   "metadata": {},
   "outputs": [],
   "source": [
    "cur, conn = create_database()"
   ]
  },
  {
   "cell_type": "markdown",
   "id": "c83d887e",
   "metadata": {},
   "source": [
    "<b>ORDERS</b>"
   ]
  },
  {
   "cell_type": "code",
   "execution_count": 5,
   "id": "1d88057e",
   "metadata": {},
   "outputs": [
    {
     "name": "stdout",
     "output_type": "stream",
     "text": [
      "Table Created\n"
     ]
    }
   ],
   "source": [
    "orders_create = (\"\"\"CREATE TABLE IF NOT EXISTS ORDERS (\n",
    "order_id numeric,\n",
    "order_customer_id numeric,\n",
    "order_date varchar,\n",
    "order_status varchar)\"\"\")\n",
    "\n",
    "cur.execute(orders_create)\n",
    "conn.commit()\n",
    "print(\"Table Created\")"
   ]
  },
  {
   "cell_type": "code",
   "execution_count": 6,
   "id": "a4217bc8",
   "metadata": {},
   "outputs": [
    {
     "data": {
      "text/html": [
       "<div>\n",
       "<style scoped>\n",
       "    .dataframe tbody tr th:only-of-type {\n",
       "        vertical-align: middle;\n",
       "    }\n",
       "\n",
       "    .dataframe tbody tr th {\n",
       "        vertical-align: top;\n",
       "    }\n",
       "\n",
       "    .dataframe thead th {\n",
       "        text-align: right;\n",
       "    }\n",
       "</style>\n",
       "<table border=\"1\" class=\"dataframe\">\n",
       "  <thead>\n",
       "    <tr style=\"text-align: right;\">\n",
       "      <th></th>\n",
       "      <th>order_id</th>\n",
       "      <th>order_customer_id</th>\n",
       "      <th>order_date</th>\n",
       "      <th>order_status</th>\n",
       "    </tr>\n",
       "  </thead>\n",
       "  <tbody>\n",
       "    <tr>\n",
       "      <th>0</th>\n",
       "      <td>1</td>\n",
       "      <td>11599.0</td>\n",
       "      <td>2013-07-25 00:00:00.0</td>\n",
       "      <td>CLOSED</td>\n",
       "    </tr>\n",
       "    <tr>\n",
       "      <th>1</th>\n",
       "      <td>2</td>\n",
       "      <td>256.0</td>\n",
       "      <td>2013-07-25 00:00:00.0</td>\n",
       "      <td>PENDING_PAYMENT</td>\n",
       "    </tr>\n",
       "    <tr>\n",
       "      <th>2</th>\n",
       "      <td>3</td>\n",
       "      <td>12111.0</td>\n",
       "      <td>2013-07-25 00:00:00.0</td>\n",
       "      <td>COMPLETE</td>\n",
       "    </tr>\n",
       "    <tr>\n",
       "      <th>3</th>\n",
       "      <td>4</td>\n",
       "      <td>8827.0</td>\n",
       "      <td>2013-07-25 00:00:00.0</td>\n",
       "      <td>CLOSED</td>\n",
       "    </tr>\n",
       "    <tr>\n",
       "      <th>4</th>\n",
       "      <td>5</td>\n",
       "      <td>11318.0</td>\n",
       "      <td>2013-07-25 00:00:00.0</td>\n",
       "      <td>COMPLETE</td>\n",
       "    </tr>\n",
       "  </tbody>\n",
       "</table>\n",
       "</div>"
      ],
      "text/plain": [
       "   order_id  order_customer_id             order_date     order_status\n",
       "0         1            11599.0  2013-07-25 00:00:00.0           CLOSED\n",
       "1         2              256.0  2013-07-25 00:00:00.0  PENDING_PAYMENT\n",
       "2         3            12111.0  2013-07-25 00:00:00.0         COMPLETE\n",
       "3         4             8827.0  2013-07-25 00:00:00.0           CLOSED\n",
       "4         5            11318.0  2013-07-25 00:00:00.0         COMPLETE"
      ]
     },
     "execution_count": 6,
     "metadata": {},
     "output_type": "execute_result"
    }
   ],
   "source": [
    "orders = pd.read_csv(r\"C:\\Users\\gupta\\Downloads\\project\\orders.csv\")\n",
    "orders = orders[['order_id','order_customer_id','order_date','order_status']]\n",
    "orders.head()"
   ]
  },
  {
   "cell_type": "code",
   "execution_count": 7,
   "id": "20c7f970",
   "metadata": {},
   "outputs": [
    {
     "name": "stdout",
     "output_type": "stream",
     "text": [
      "Rows inserted.\n"
     ]
    }
   ],
   "source": [
    "try:\n",
    "    orders_insert_data = \"\"\"INSERT INTO ORDERS(\n",
    "    order_id,\n",
    "    order_customer_id,\n",
    "    order_date,\n",
    "    order_status)\n",
    "    VALUES (%s, %s, %s, %s)\"\"\"\n",
    "    \n",
    "    for i, row in orders.iterrows():\n",
    "        cur.execute(orders_insert_data, list(row))\n",
    "    \n",
    "    print(\"Rows inserted.\")\n",
    "except psycopg2.Error as e:\n",
    "    print(e)"
   ]
  },
  {
   "cell_type": "markdown",
   "id": "9c1cba18",
   "metadata": {},
   "source": [
    "<b>CUSTOMERS</b>"
   ]
  },
  {
   "cell_type": "code",
   "execution_count": 8,
   "id": "e334d639",
   "metadata": {},
   "outputs": [
    {
     "name": "stdout",
     "output_type": "stream",
     "text": [
      "Table Created\n"
     ]
    }
   ],
   "source": [
    "try:\n",
    "    customers_create = (\"\"\"CREATE TABLE IF NOT EXISTS CUSTOMERS (\n",
    "    customer_id numeric,\n",
    "    customer_fname varchar,\n",
    "    customer_lname varchar,\n",
    "    customer_state varchar)\"\"\")\n",
    "\n",
    "    cur.execute(customers_create)\n",
    "    conn.commit()\n",
    "    print(\"Table Created\")\n",
    "    \n",
    "    \n",
    "except psycopg2.Error as e:\n",
    "    print(e)"
   ]
  },
  {
   "cell_type": "code",
   "execution_count": 9,
   "id": "7836e40b",
   "metadata": {},
   "outputs": [
    {
     "data": {
      "text/html": [
       "<div>\n",
       "<style scoped>\n",
       "    .dataframe tbody tr th:only-of-type {\n",
       "        vertical-align: middle;\n",
       "    }\n",
       "\n",
       "    .dataframe tbody tr th {\n",
       "        vertical-align: top;\n",
       "    }\n",
       "\n",
       "    .dataframe thead th {\n",
       "        text-align: right;\n",
       "    }\n",
       "</style>\n",
       "<table border=\"1\" class=\"dataframe\">\n",
       "  <thead>\n",
       "    <tr style=\"text-align: right;\">\n",
       "      <th></th>\n",
       "      <th>customer_id</th>\n",
       "      <th>customer_fname</th>\n",
       "      <th>customer_lname</th>\n",
       "      <th>customer_state</th>\n",
       "    </tr>\n",
       "  </thead>\n",
       "  <tbody>\n",
       "    <tr>\n",
       "      <th>0</th>\n",
       "      <td>1</td>\n",
       "      <td>Richard</td>\n",
       "      <td>Hernandez</td>\n",
       "      <td>TX</td>\n",
       "    </tr>\n",
       "    <tr>\n",
       "      <th>1</th>\n",
       "      <td>2</td>\n",
       "      <td>Mary</td>\n",
       "      <td>Barrett</td>\n",
       "      <td>CO</td>\n",
       "    </tr>\n",
       "    <tr>\n",
       "      <th>2</th>\n",
       "      <td>3</td>\n",
       "      <td>Ann</td>\n",
       "      <td>Smith</td>\n",
       "      <td>PR</td>\n",
       "    </tr>\n",
       "    <tr>\n",
       "      <th>3</th>\n",
       "      <td>4</td>\n",
       "      <td>Mary</td>\n",
       "      <td>Jones</td>\n",
       "      <td>CA</td>\n",
       "    </tr>\n",
       "    <tr>\n",
       "      <th>4</th>\n",
       "      <td>5</td>\n",
       "      <td>Robert</td>\n",
       "      <td>Hudson</td>\n",
       "      <td>PR</td>\n",
       "    </tr>\n",
       "  </tbody>\n",
       "</table>\n",
       "</div>"
      ],
      "text/plain": [
       "   customer_id customer_fname customer_lname customer_state\n",
       "0            1        Richard      Hernandez             TX\n",
       "1            2           Mary        Barrett             CO\n",
       "2            3            Ann          Smith             PR\n",
       "3            4           Mary          Jones             CA\n",
       "4            5         Robert         Hudson             PR"
      ]
     },
     "execution_count": 9,
     "metadata": {},
     "output_type": "execute_result"
    }
   ],
   "source": [
    "customers = pd.read_csv(r\"C:\\Users\\gupta\\Downloads\\project\\customers.csv\")\n",
    "customers = customers[['customer_id', 'customer_fname', 'customer_lname', 'customer_state']]\n",
    "customers.head()"
   ]
  },
  {
   "cell_type": "code",
   "execution_count": 10,
   "id": "8dddcecb",
   "metadata": {},
   "outputs": [
    {
     "name": "stdout",
     "output_type": "stream",
     "text": [
      "Rows inserted.\n"
     ]
    }
   ],
   "source": [
    "# iterrows() function return index & row\n",
    "try:\n",
    "    customers_insert_data = \"\"\"INSERT INTO customers(\n",
    "    customer_id,\n",
    "    customer_fname,\n",
    "    customer_lname,\n",
    "    customer_state)\n",
    "    VALUES (%s, %s, %s, %s)\"\"\"\n",
    "    \n",
    "    for i, row in customers.iterrows():\n",
    "        cur.execute(customers_insert_data, list(row))\n",
    "    \n",
    "    print(\"Rows inserted.\")\n",
    "\n",
    "except psycopg2.Error as e:\n",
    "    print(e)"
   ]
  },
  {
   "cell_type": "markdown",
   "id": "ac1bef7e",
   "metadata": {},
   "source": [
    "<b>ORDER_DATA</b>"
   ]
  },
  {
   "cell_type": "code",
   "execution_count": 11,
   "id": "b6e3e5a3",
   "metadata": {},
   "outputs": [
    {
     "name": "stdout",
     "output_type": "stream",
     "text": [
      "Table Created\n"
     ]
    }
   ],
   "source": [
    "try:\n",
    "    orders_data_create = (\"\"\"CREATE TABLE IF NOT EXISTS Order_data (\n",
    "    customerid numeric,\n",
    "    InvoiceNo varchar,\n",
    "    Country varchar)\"\"\")\n",
    "\n",
    "    cur.execute(orders_data_create)\n",
    "    conn.commit()\n",
    "    print(\"Table Created\")\n",
    "    \n",
    "except psycopg2.Error as e:\n",
    "    print(e)"
   ]
  },
  {
   "cell_type": "code",
   "execution_count": 12,
   "id": "4b1b4389",
   "metadata": {},
   "outputs": [
    {
     "data": {
      "text/html": [
       "<div>\n",
       "<style scoped>\n",
       "    .dataframe tbody tr th:only-of-type {\n",
       "        vertical-align: middle;\n",
       "    }\n",
       "\n",
       "    .dataframe tbody tr th {\n",
       "        vertical-align: top;\n",
       "    }\n",
       "\n",
       "    .dataframe thead th {\n",
       "        text-align: right;\n",
       "    }\n",
       "</style>\n",
       "<table border=\"1\" class=\"dataframe\">\n",
       "  <thead>\n",
       "    <tr style=\"text-align: right;\">\n",
       "      <th></th>\n",
       "      <th>CustomerID</th>\n",
       "      <th>InvoiceNo</th>\n",
       "      <th>Country</th>\n",
       "    </tr>\n",
       "  </thead>\n",
       "  <tbody>\n",
       "    <tr>\n",
       "      <th>0</th>\n",
       "      <td>14688.0</td>\n",
       "      <td>536378</td>\n",
       "      <td>United Kingdom</td>\n",
       "    </tr>\n",
       "    <tr>\n",
       "      <th>1</th>\n",
       "      <td>14688.0</td>\n",
       "      <td>536378</td>\n",
       "      <td>United Kingdom</td>\n",
       "    </tr>\n",
       "    <tr>\n",
       "      <th>2</th>\n",
       "      <td>14688.0</td>\n",
       "      <td>536378</td>\n",
       "      <td>United Kingdom</td>\n",
       "    </tr>\n",
       "    <tr>\n",
       "      <th>3</th>\n",
       "      <td>14688.0</td>\n",
       "      <td>536378</td>\n",
       "      <td>United Kingdom</td>\n",
       "    </tr>\n",
       "    <tr>\n",
       "      <th>4</th>\n",
       "      <td>14688.0</td>\n",
       "      <td>536378</td>\n",
       "      <td>United Kingdom</td>\n",
       "    </tr>\n",
       "  </tbody>\n",
       "</table>\n",
       "</div>"
      ],
      "text/plain": [
       "   CustomerID InvoiceNo         Country\n",
       "0     14688.0    536378  United Kingdom\n",
       "1     14688.0    536378  United Kingdom\n",
       "2     14688.0    536378  United Kingdom\n",
       "3     14688.0    536378  United Kingdom\n",
       "4     14688.0    536378  United Kingdom"
      ]
     },
     "execution_count": 12,
     "metadata": {},
     "output_type": "execute_result"
    }
   ],
   "source": [
    "order_data = pd.read_csv(r\"C:\\Users\\gupta\\Downloads\\project\\order_data.csv\")\n",
    "order_data = order_data[['CustomerID','InvoiceNo','Country']]\n",
    "order_data.head()"
   ]
  },
  {
   "cell_type": "code",
   "execution_count": 13,
   "id": "f37078da",
   "metadata": {
    "scrolled": true
   },
   "outputs": [
    {
     "name": "stdout",
     "output_type": "stream",
     "text": [
      "Rows inserted.\n"
     ]
    }
   ],
   "source": [
    "try:\n",
    "    order_data_insert_data = \"\"\"INSERT INTO Order_data(\n",
    "    customerid,\n",
    "    InvoiceNo,\n",
    "    Country)\n",
    "    VALUES (%s, %s, %s)\"\"\"\n",
    "    \n",
    "    for i, row in order_data.iterrows():\n",
    "        cur.execute(order_data_insert_data, list(row))\n",
    "    conn.commit()\n",
    "    print(\"Rows inserted.\")\n",
    "except psycopg2.Error as e:\n",
    "    print(e)"
   ]
  }
 ],
 "metadata": {
  "kernelspec": {
   "display_name": "Python 3 (ipykernel)",
   "language": "python",
   "name": "python3"
  },
  "language_info": {
   "codemirror_mode": {
    "name": "ipython",
    "version": 3
   },
   "file_extension": ".py",
   "mimetype": "text/x-python",
   "name": "python",
   "nbconvert_exporter": "python",
   "pygments_lexer": "ipython3",
   "version": "3.10.11"
  }
 },
 "nbformat": 4,
 "nbformat_minor": 5
}
